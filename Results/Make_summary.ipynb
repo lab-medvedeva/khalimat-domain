{
 "cells": [
  {
   "cell_type": "code",
   "execution_count": 1,
   "metadata": {},
   "outputs": [],
   "source": [
    "from pathlib import Path\n",
    "\n",
    "import numpy as np\n",
    "import pandas as pd"
   ]
  },
  {
   "cell_type": "code",
   "execution_count": 3,
   "metadata": {},
   "outputs": [],
   "source": [
    "p = Path('/home/khali/scams/Results')\n"
   ]
  },
  {
   "cell_type": "code",
   "execution_count": 10,
   "metadata": {},
   "outputs": [],
   "source": [
    "LGBM_p = []\n",
    "for it in p.iterdir():\n",
    "    if str(it).split('/')[-1].split('_')[0] == 'LGBM':\n",
    "        LGBM_p.append(str(it))\n",
    "        "
   ]
  },
  {
   "cell_type": "code",
   "execution_count": 19,
   "metadata": {},
   "outputs": [],
   "source": [
    "a = pd.read_csv(Path(LGBM_p[0]) / 't-test_stats.csv', index_col=0)"
   ]
  },
  {
   "cell_type": "code",
   "execution_count": 74,
   "metadata": {},
   "outputs": [],
   "source": [
    "Metrics = a['Metrics'].to_list()"
   ]
  },
  {
   "cell_type": "code",
   "execution_count": 67,
   "metadata": {},
   "outputs": [],
   "source": [
    "def gather_stats(df_stats, metric):\n",
    "    result = []\n",
    "    for it in metric:\n",
    "        AL = df_stats[df_stats['Metrics'] == it]['Mean AL'].to_list()[0]\n",
    "        non_AL = df_stats[df_stats['Metrics'] == it]['Mean non AL'].to_list()[0]\n",
    "        log = df_stats[df_stats['Metrics'] == it]['is_significant'].to_list()[0]\n",
    "        if AL > non_AL and log:\n",
    "            result.append('AL_T')\n",
    "        if AL > non_AL and not log:\n",
    "            result.append('AL_F')\n",
    "        if AL < non_AL and log:\n",
    "            result.append('N_AL_T')\n",
    "        if AL < non_AL and not log:\n",
    "            result.append('N_AL_F')\n",
    "        if AL == non_AL:\n",
    "            result.append('E')\n",
    "    return result\n"
   ]
  },
  {
   "cell_type": "code",
   "execution_count": 68,
   "metadata": {},
   "outputs": [],
   "source": [
    "df_summry_stat = {}\n",
    "for p in LGBM_p:\n",
    "    c_p = Path(p) / 't-test_stats.csv'\n",
    "    data_s = pd.read_csv(c_p, index_col=0)\n",
    "    iter_res = gather_stats(data_s, Metrics)\n",
    "    df_summry_stat[p.split('/')[-1]] = iter_res\n",
    "    "
   ]
  },
  {
   "cell_type": "code",
   "execution_count": 72,
   "metadata": {},
   "outputs": [],
   "source": [
    "df_summry_stat = pd.DataFrame.from_dict(df_summry_stat, orient='index', columns=Metrics)"
   ]
  },
  {
   "cell_type": "code",
   "execution_count": 73,
   "metadata": {},
   "outputs": [],
   "source": [
    "df_summry_stat.to_csv('/home/khali/scams/Results/LGBM_summary.csv')"
   ]
  },
  {
   "cell_type": "code",
   "execution_count": 77,
   "metadata": {},
   "outputs": [],
   "source": [
    "values_counts = df_summry_stat.apply(pd.value_counts)\n"
   ]
  },
  {
   "cell_type": "code",
   "execution_count": 78,
   "metadata": {},
   "outputs": [],
   "source": [
    "values_counts.to_csv('/home/khali/scams/Results/LGBM_summary_values_counts.csv')"
   ]
  },
  {
   "cell_type": "code",
   "execution_count": 86,
   "metadata": {},
   "outputs": [
    {
     "data": {
      "text/html": [
       "<div>\n",
       "<style scoped>\n",
       "    .dataframe tbody tr th:only-of-type {\n",
       "        vertical-align: middle;\n",
       "    }\n",
       "\n",
       "    .dataframe tbody tr th {\n",
       "        vertical-align: top;\n",
       "    }\n",
       "\n",
       "    .dataframe thead th {\n",
       "        text-align: right;\n",
       "    }\n",
       "</style>\n",
       "<table border=\"1\" class=\"dataframe\">\n",
       "  <thead>\n",
       "    <tr style=\"text-align: right;\">\n",
       "      <th></th>\n",
       "      <th>AUC_LB_test</th>\n",
       "      <th>AUC_test</th>\n",
       "      <th>AUC_UB_test</th>\n",
       "      <th>Accuracy_test</th>\n",
       "      <th>F1_test</th>\n",
       "      <th>MCC_test</th>\n",
       "      <th>AUC_LB_validation</th>\n",
       "    </tr>\n",
       "  </thead>\n",
       "  <tbody>\n",
       "    <tr>\n",
       "      <th>AL_F</th>\n",
       "      <td>16.0</td>\n",
       "      <td>15.0</td>\n",
       "      <td>15.0</td>\n",
       "      <td>4.0</td>\n",
       "      <td>13.0</td>\n",
       "      <td>5.0</td>\n",
       "      <td>6.0</td>\n",
       "    </tr>\n",
       "    <tr>\n",
       "      <th>AL_T</th>\n",
       "      <td>17.0</td>\n",
       "      <td>18.0</td>\n",
       "      <td>18.0</td>\n",
       "      <td>29.0</td>\n",
       "      <td>20.0</td>\n",
       "      <td>27.0</td>\n",
       "      <td>27.0</td>\n",
       "    </tr>\n",
       "    <tr>\n",
       "      <th>N_AL_F</th>\n",
       "      <td>0.0</td>\n",
       "      <td>0.0</td>\n",
       "      <td>0.0</td>\n",
       "      <td>0.0</td>\n",
       "      <td>0.0</td>\n",
       "      <td>0.0</td>\n",
       "      <td>0.0</td>\n",
       "    </tr>\n",
       "    <tr>\n",
       "      <th>N_AL_T</th>\n",
       "      <td>0.0</td>\n",
       "      <td>0.0</td>\n",
       "      <td>0.0</td>\n",
       "      <td>0.0</td>\n",
       "      <td>0.0</td>\n",
       "      <td>1.0</td>\n",
       "      <td>0.0</td>\n",
       "    </tr>\n",
       "  </tbody>\n",
       "</table>\n",
       "</div>"
      ],
      "text/plain": [
       "        AUC_LB_test  AUC_test  AUC_UB_test  Accuracy_test  F1_test  MCC_test  \\\n",
       "AL_F           16.0      15.0         15.0            4.0     13.0       5.0   \n",
       "AL_T           17.0      18.0         18.0           29.0     20.0      27.0   \n",
       "N_AL_F          0.0       0.0          0.0            0.0      0.0       0.0   \n",
       "N_AL_T          0.0       0.0          0.0            0.0      0.0       1.0   \n",
       "\n",
       "        AUC_LB_validation  \n",
       "AL_F                  6.0  \n",
       "AL_T                 27.0  \n",
       "N_AL_F                0.0  \n",
       "N_AL_T                0.0  "
      ]
     },
     "execution_count": 86,
     "metadata": {},
     "output_type": "execute_result"
    }
   ],
   "source": [
    "values_counts.iloc[:, 0:7].fillna(0)"
   ]
  },
  {
   "cell_type": "code",
   "execution_count": 87,
   "metadata": {},
   "outputs": [
    {
     "data": {
      "text/html": [
       "<div>\n",
       "<style scoped>\n",
       "    .dataframe tbody tr th:only-of-type {\n",
       "        vertical-align: middle;\n",
       "    }\n",
       "\n",
       "    .dataframe tbody tr th {\n",
       "        vertical-align: top;\n",
       "    }\n",
       "\n",
       "    .dataframe thead th {\n",
       "        text-align: right;\n",
       "    }\n",
       "</style>\n",
       "<table border=\"1\" class=\"dataframe\">\n",
       "  <thead>\n",
       "    <tr style=\"text-align: right;\">\n",
       "      <th></th>\n",
       "      <th>AUC_validation</th>\n",
       "      <th>AUC_UB_validation</th>\n",
       "      <th>Accuracy_validation</th>\n",
       "      <th>F1_validation</th>\n",
       "      <th>MCC_validation</th>\n",
       "    </tr>\n",
       "  </thead>\n",
       "  <tbody>\n",
       "    <tr>\n",
       "      <th>AL_F</th>\n",
       "      <td>6.0</td>\n",
       "      <td>6.0</td>\n",
       "      <td>2</td>\n",
       "      <td>2</td>\n",
       "      <td>3.0</td>\n",
       "    </tr>\n",
       "    <tr>\n",
       "      <th>AL_T</th>\n",
       "      <td>27.0</td>\n",
       "      <td>27.0</td>\n",
       "      <td>28</td>\n",
       "      <td>25</td>\n",
       "      <td>29.0</td>\n",
       "    </tr>\n",
       "    <tr>\n",
       "      <th>N_AL_F</th>\n",
       "      <td>0.0</td>\n",
       "      <td>0.0</td>\n",
       "      <td>2</td>\n",
       "      <td>4</td>\n",
       "      <td>0.0</td>\n",
       "    </tr>\n",
       "    <tr>\n",
       "      <th>N_AL_T</th>\n",
       "      <td>0.0</td>\n",
       "      <td>0.0</td>\n",
       "      <td>1</td>\n",
       "      <td>2</td>\n",
       "      <td>1.0</td>\n",
       "    </tr>\n",
       "  </tbody>\n",
       "</table>\n",
       "</div>"
      ],
      "text/plain": [
       "        AUC_validation  AUC_UB_validation  Accuracy_validation  F1_validation  \\\n",
       "AL_F               6.0                6.0                    2              2   \n",
       "AL_T              27.0               27.0                   28             25   \n",
       "N_AL_F             0.0                0.0                    2              4   \n",
       "N_AL_T             0.0                0.0                    1              2   \n",
       "\n",
       "        MCC_validation  \n",
       "AL_F               3.0  \n",
       "AL_T              29.0  \n",
       "N_AL_F             0.0  \n",
       "N_AL_T             1.0  "
      ]
     },
     "execution_count": 87,
     "metadata": {},
     "output_type": "execute_result"
    }
   ],
   "source": [
    "values_counts.iloc[:, 7:].fillna(0)"
   ]
  },
  {
   "cell_type": "code",
   "execution_count": null,
   "metadata": {},
   "outputs": [],
   "source": []
  }
 ],
 "metadata": {
  "kernelspec": {
   "display_name": "Python 3",
   "language": "python",
   "name": "python3"
  },
  "language_info": {
   "codemirror_mode": {
    "name": "ipython",
    "version": 3
   },
   "file_extension": ".py",
   "mimetype": "text/x-python",
   "name": "python",
   "nbconvert_exporter": "python",
   "pygments_lexer": "ipython3",
   "version": "3.8.5"
  }
 },
 "nbformat": 4,
 "nbformat_minor": 4
}
